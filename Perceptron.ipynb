{
  "nbformat": 4,
  "nbformat_minor": 0,
  "metadata": {
    "colab": {
      "provenance": [],
      "authorship_tag": "ABX9TyOIfFyFSFu1wGu2jf7yN4/I",
      "include_colab_link": true
    },
    "kernelspec": {
      "name": "python3",
      "display_name": "Python 3"
    },
    "language_info": {
      "name": "python"
    }
  },
  "cells": [
    {
      "cell_type": "markdown",
      "metadata": {
        "id": "view-in-github",
        "colab_type": "text"
      },
      "source": [
        "<a href=\"https://colab.research.google.com/github/AYEOooON/first-repository/blob/main/Perceptron.ipynb\" target=\"_parent\"><img src=\"https://colab.research.google.com/assets/colab-badge.svg\" alt=\"Open In Colab\"/></a>"
      ]
    },
    {
      "cell_type": "code",
      "execution_count": 18,
      "metadata": {
        "id": "5q9ArelIonDW"
      },
      "outputs": [],
      "source": [
        "import torch\n",
        "import torch.nn as nn\n",
        "\n",
        "device = 'cuda' if torch.cuda.is_available() else 'cpu'\n",
        "\n",
        "torch.manual_seed(2022)\n",
        "if device == 'cuda':\n",
        "    torch.cuda.manual_seed_all(2022)"
      ]
    },
    {
      "cell_type": "code",
      "source": [
        "X = torch.FloatTensor([\n",
        "    [0,0],\n",
        "    [0,1],\n",
        "    [1,0],\n",
        "    [1,1]\n",
        "]).to(device)\n",
        "Y = torch.FloatTensor([\n",
        "    [0], [1], [1], [1]\n",
        "]).to(device)"
      ],
      "metadata": {
        "id": "sA6OzPXyyWQF"
      },
      "execution_count": 19,
      "outputs": []
    },
    {
      "cell_type": "code",
      "source": [
        "model = nn.Sequential(\n",
        "    nn.Linear(2,1,bias=True),\n",
        "    nn.Sigmoid()\n",
        ").to(device)"
      ],
      "metadata": {
        "id": "mx3b14KPy-n7"
      },
      "execution_count": 20,
      "outputs": []
    },
    {
      "cell_type": "code",
      "source": [
        "loss_func = torch.nn.BCELoss().to(device)\n",
        "optimizer = torch.optim.SGD(model.parameters(), lr = 0.01)"
      ],
      "metadata": {
        "id": "kE9-HiPK0aN3"
      },
      "execution_count": 21,
      "outputs": []
    },
    {
      "cell_type": "code",
      "source": [
        "for step in range(20001):\n",
        "    optimizer.zero_grad()\n",
        "\n",
        "    Y_hat = model(X)\n",
        "    loss = loss_func(Y_hat, Y)\n",
        "    loss.backward()\n",
        "    optimizer.step()\n",
        "    \n",
        "    if step % 1000 == 0:\n",
        "        print(step, loss.item())"
      ],
      "metadata": {
        "colab": {
          "base_uri": "https://localhost:8080/"
        },
        "id": "xElFOU9o0wnB",
        "outputId": "eae4d3fd-b154-40b3-cf6e-9dc0367141ad"
      },
      "execution_count": 22,
      "outputs": [
        {
          "output_type": "stream",
          "name": "stdout",
          "text": [
            "0 0.5430929660797119\n",
            "1000 0.3411541283130646\n",
            "2000 0.2660278081893921\n",
            "3000 0.21657560765743256\n",
            "4000 0.18183396756649017\n",
            "5000 0.1562110334634781\n",
            "6000 0.1365913450717926\n",
            "7000 0.12112344801425934\n",
            "8000 0.10864154994487762\n",
            "9000 0.09837546199560165\n",
            "10000 0.08979637920856476\n",
            "11000 0.08252951502799988\n",
            "12000 0.0763021782040596\n",
            "13000 0.07091116905212402\n",
            "14000 0.06620251387357712\n",
            "15000 0.06205717474222183\n",
            "16000 0.058381933718919754\n",
            "17000 0.05510282516479492\n",
            "18000 0.052160296589136124\n",
            "19000 0.04950617253780365\n",
            "20000 0.047100868076086044\n"
          ]
        }
      ]
    },
    {
      "cell_type": "code",
      "source": [
        "with torch.no_grad():\n",
        "    model.eval()\n",
        "    inputs = torch.FloatTensor([\n",
        "        [0,0],\n",
        "        [0,1],\n",
        "        [1,0],\n",
        "        [1,1]\n",
        "    ]).to(device)\n",
        "    outputs = model(inputs)\n",
        "\n",
        "    print(outputs)\n",
        "    print(outputs > 0.5)"
      ],
      "metadata": {
        "colab": {
          "base_uri": "https://localhost:8080/"
        },
        "id": "4XMngRNG1pbX",
        "outputId": "10ed155f-1628-4a7d-a9da-65891feb2733"
      },
      "execution_count": 23,
      "outputs": [
        {
          "output_type": "stream",
          "name": "stdout",
          "text": [
            "tensor([[0.1011],\n",
            "        [0.9603],\n",
            "        [0.9597],\n",
            "        [0.9998]])\n",
            "tensor([[False],\n",
            "        [ True],\n",
            "        [ True],\n",
            "        [ True]])\n"
          ]
        }
      ]
    },
    {
      "cell_type": "code",
      "source": [],
      "metadata": {
        "id": "TUCN2d2P2Tdl"
      },
      "execution_count": 23,
      "outputs": []
    }
  ]
}